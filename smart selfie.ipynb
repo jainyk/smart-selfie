{
 "cells": [
  {
   "cell_type": "code",
   "execution_count": null,
   "metadata": {},
   "outputs": [],
   "source": [
    "import cv2\n",
    "import numpy as np\n",
    "import dlib\n",
    "from math import hypot\n"
   ]
  },
  {
   "cell_type": "code",
   "execution_count": null,
   "metadata": {},
   "outputs": [],
   "source": [
    "cap = cv2.VideoCapture(0)\n",
    "\n",
    "detector = dlib.get_frontal_face_detector()\n",
    "# loading landmark detect file\n",
    "predictor = dlib.shape_predictor(\"shape_predictor_68_face_landmarks.dat\")\n"
   ]
  },
  {
   "cell_type": "code",
   "execution_count": null,
   "metadata": {},
   "outputs": [],
   "source": [
    "key = cv2. waitKey(1)\n",
    "#def midpoint(p1 ,p2):\n",
    " #   return int((p1.x + p2.x)/2), int((p1.y + p2.y)/2)\n",
    "while True:\n",
    "    _, frame = cap.read()\n",
    "    gray = cv2.cvtColor(frame, cv2.COLOR_BGR2GRAY)\n",
    "\n",
    "    faces = detector(gray)\n",
    "    for face in faces:\n",
    "        landmarks = predictor(gray, face)\n",
    "        left_point = (landmarks.part(60).x, landmarks.part(60).y)\n",
    "        right_point = (landmarks.part(54).x, landmarks.part(54).y)\n",
    "        center_top = landmarks.part(51).x, landmarks.part(51).y\n",
    "        center_bottom = landmarks.part(59).y, landmarks.part(59).y\n",
    "\n",
    "       # hor_line = cv2.line(frame, left_point, right_point, (0, 255, 0), 2)\n",
    "       # ver_line = cv2.line(frame, center_top, center_bottom, (0, 255, 0), 2)\n",
    "        \n",
    "        hor_line_length = hypot((left_point[0] - right_point[0]), (left_point[1] - right_point[1]))\n",
    "       # ver_line_length = hypot((center_top[0] - center_bottom[0]), (center_top[1] - center_bottom[1]))\n",
    "\n",
    "        #ratio = hor_line_length / ver_line_length\n",
    "        #print(ratio)\n",
    "\n",
    "# capturing selfie while smiling \n",
    "        if hor_line_length > 70:\n",
    "            cv2.imwrite(filename='smile.jpg', img=frame)\n",
    "            cap.release()\n",
    "            cv2.destroyAllWindows()\n",
    "            break\n",
    "# capturing selfie while smootch\n",
    "        if hor_line_length < 50:\n",
    "            cv2.imwrite(filename='smootch.jpg', img=frame)\n",
    "            cap.release()\n",
    "            cv2.destroyAllWindows()\n",
    "            break\n",
    "\n",
    "        \n",
    "        \n",
    "#cap.release()\n",
    "#cv2.destroyAllWindows()"
   ]
  },
  {
   "cell_type": "code",
   "execution_count": null,
   "metadata": {},
   "outputs": [],
   "source": []
  },
  {
   "cell_type": "code",
   "execution_count": null,
   "metadata": {},
   "outputs": [],
   "source": []
  }
 ],
 "metadata": {
  "kernelspec": {
   "display_name": "Python3.6Test",
   "language": "python",
   "name": "python3.6test"
  },
  "language_info": {
   "codemirror_mode": {
    "name": "ipython",
    "version": 3
   },
   "file_extension": ".py",
   "mimetype": "text/x-python",
   "name": "python",
   "nbconvert_exporter": "python",
   "pygments_lexer": "ipython3",
   "version": "3.6.7"
  }
 },
 "nbformat": 4,
 "nbformat_minor": 2
}
